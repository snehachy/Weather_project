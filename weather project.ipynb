{
 "cells": [
  {
   "cell_type": "markdown",
   "metadata": {},
   "source": [
    "# Exploring Wheather Trend"
   ]
  },
  {
   "cell_type": "markdown",
   "metadata": {},
   "source": [
    "Table of Contents\n",
    "1.Introduction\n",
    "2.Data Wrangling\n",
    "3.EDA\n",
    "4.Conclusion"
   ]
  },
  {
   "cell_type": "markdown",
   "metadata": {},
   "source": [
    "# Introduction\n",
    "In this project, we will analyze global and Toronto (where I live)  temperature data and compare the temperature trends  of Torontoto to overall global temperature trends.At the end we will be looking  to answer these qustions-\n",
    "a.Is Toronto hotter or cooler on average compared to the global average?\n",
    "b.Has the difference been consistent over time?\n",
    "c.How do the changes Toronto temperatures over time compare to the changes in the global average?”\n",
    "d.What does the overall trend look like? Is the world getting hotter or cooler? Has the trend been consistent over the last few hundred years?\n",
    " \n",
    "Tools used in the project:-\n",
    "SQL,Python,Pandas,Matplotlib\n",
    "\n"
   ]
  },
  {
   "cell_type": "markdown",
   "metadata": {},
   "source": [
    "# Data Wrangling"
   ]
  },
  {
   "cell_type": "markdown",
   "metadata": {},
   "source": [
    "## Getting and expolring data\n",
    "\n",
    "First I have extracted data from database using SQL,Secondly I have observed data  to understand how \n",
    "they are related to each other and afterthat I made following observations -\n",
    "1. The 'year' column is the foreign key to join two tables city_data and global_data\n",
    "2 .In global_data table there are 266 rows from year 1750  to 2013  and 2 columns 'year'& 'avg_temp'\n",
    "AND  in city data there are 271 rows from year 1743 to 2015 and 4 columns 'year','avg_temp','city',&'country'\n",
    "3. After understanding the data, I wrote SQL query to get the required data for analysis-\n",
    "\n",
    "The SQL query written to extract data-\n",
    "select city.*,glob.avg_temp as avg_temp_global\n",
    "from city_data as city  inner join global_data as glob \n",
    "ON city.year=glob.year \n",
    "where country='Canada'and city='Toronto'\n",
    "Order By year;\n",
    "\n",
    "Then I have saved data as weather_data.csv on my desktop.\n"
   ]
  },
  {
   "cell_type": "code",
   "execution_count": null,
   "metadata": {},
   "outputs": [],
   "source": [
    "## Data cleaning"
   ]
  },
  {
   "cell_type": "code",
   "execution_count": null,
   "metadata": {},
   "outputs": [],
   "source": [
    "# Importing Packages\n",
    "import pandas as pd\n",
    "import matplotlib.pyplot as plt\n",
    "%matplotlib inline"
   ]
  },
  {
   "cell_type": "code",
   "execution_count": null,
   "metadata": {},
   "outputs": [],
   "source": [
    "# Loading data in pandas and displaying 5 rows\n",
    "df=pd.read_csv('C:\\\\Users\\\\Sneha\\\\Desktop\\\\weather_data.csv')\n",
    "df.head()\n"
   ]
  },
  {
   "cell_type": "code",
   "execution_count": null,
   "metadata": {},
   "outputs": [],
   "source": [
    "# Displaying last 5 rows\n",
    "df.tail()"
   ]
  },
  {
   "cell_type": "code",
   "execution_count": null,
   "metadata": {},
   "outputs": [],
   "source": [
    "# Rename column \" avg_temp\"\n",
    "df.rename({'avg_temp':'avg_temp_toronto'},axis=1,inplace=True)\n",
    "# set \" year \" as index\n",
    "df.index=df['year']\n",
    "# delete redundant columns\n",
    "df.drop(['year','city','country'],axis=1,inplace=True)\n",
    "# check the result\n",
    "df.head()\n"
   ]
  },
  {
   "cell_type": "code",
   "execution_count": null,
   "metadata": {},
   "outputs": [],
   "source": [
    "df.info()"
   ]
  },
  {
   "cell_type": "code",
   "execution_count": null,
   "metadata": {},
   "outputs": [],
   "source": [
    "# check null value\n",
    "df.isnull().sum()"
   ]
  },
  {
   "cell_type": "markdown",
   "metadata": {},
   "source": [
    "# Exploratory Data analysis"
   ]
  },
  {
   "cell_type": "code",
   "execution_count": null,
   "metadata": {},
   "outputs": [],
   "source": [
    "# calculating  7 year moving average for average temp of toranto and global data and make it new column\n",
    "df['moving_avg_toronto']=df['avg_temp_toronto'].rolling(7).mean()\n",
    "df['moving_avg_global']=df['avg_temp_global'].rolling(7).mean()\n",
    "df.head(11)"
   ]
  },
  {
   "cell_type": "code",
   "execution_count": null,
   "metadata": {},
   "outputs": [],
   "source": [
    "# Data Visualization"
   ]
  },
  {
   "cell_type": "code",
   "execution_count": null,
   "metadata": {},
   "outputs": [],
   "source": [
    "fig,ax = plt.subplots(figsize=(10,5))\n",
    "ax.plot(df['moving_avg_toronto'], label='toronto Weather Trends')\n",
    "ax.plot(df['moving_avg_global'], label='Global Weather Trends')\n",
    "\n",
    "ax.legend()\n",
    "ax.grid(True)\n",
    "ax.set_xlabel('Year')\n",
    "ax.set_ylabel('Temparature')\n",
    "ax.set_title('Weather Trends')"
   ]
  },
  {
   "cell_type": "markdown",
   "metadata": {},
   "source": [
    "# Conclusion\n",
    "1. As part of this project ,I have analyzed the weather trend using  temperature data of Toronto and global  from year 1750 to 2013 and concluded that Toronto is cooler than the World.The average temperature of global is more than average temperature of Toronto.\n",
    "2. Toronto  has higher fluctuation in average temperature compare to global average temperature.\n",
    "3.However difference in both  average temperature has been consistent over the time and the temperature for both Toronto and global are increasing over years particularly in recent years. \n",
    "4.Furthermore, based on historical trends, we can predict that the future trend will be continuely increasing."
   ]
  }
 ],
 "metadata": {
  "kernelspec": {
   "display_name": "Python 3",
   "language": "python",
   "name": "python3"
  },
  "language_info": {
   "codemirror_mode": {
    "name": "ipython",
    "version": 3
   },
   "file_extension": ".py",
   "mimetype": "text/x-python",
   "name": "python",
   "nbconvert_exporter": "python",
   "pygments_lexer": "ipython3",
   "version": "3.7.0"
  }
 },
 "nbformat": 4,
 "nbformat_minor": 2
}
